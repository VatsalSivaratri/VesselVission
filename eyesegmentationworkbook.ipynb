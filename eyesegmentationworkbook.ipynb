{
 "cells": [
  {
   "cell_type": "markdown",
   "id": "83f69db1",
   "metadata": {
    "papermill": {
     "duration": 0.003495,
     "end_time": "2023-04-05T21:42:21.489068",
     "exception": false,
     "start_time": "2023-04-05T21:42:21.485573",
     "status": "completed"
    },
    "tags": []
   },
   "source": [
    "## **TJ Research Conference Project Code**\n",
    "\n",
    "#### By: Dhruv Chandna, Pranav Kuppa, Vatsal Sivaratri\n",
    "\n",
    "##### Below is our code for our project: \"VesselVision: A Novel Approach to the Segmentation of Infrared Retinal Imaging.\" We presented this project at the 2023 TJ Student Reserach Conference hosted by the TJ Machine Learning Club.\n",
    "\n",
    "\n",
    "##### The code contains preprocessing steps, experimentation of various model architectures, and finetuning.\n"
   ]
  },
  {
   "cell_type": "markdown",
   "id": "f52ab2a7",
   "metadata": {
    "papermill": {
     "duration": 0.002133,
     "end_time": "2023-04-05T21:42:21.493824",
     "exception": false,
     "start_time": "2023-04-05T21:42:21.491691",
     "status": "completed"
    },
    "tags": []
   },
   "source": [
    "### Step 1: Preprocessing the Data"
   ]
  },
  {
   "cell_type": "code",
   "execution_count": 1,
   "id": "d24636e5",
   "metadata": {
    "_cell_guid": "b1076dfc-b9ad-4769-8c92-a6c4dae69d19",
    "_uuid": "8f2839f25d086af736a60e9eeb907d3b93b6e0e5",
    "execution": {
     "iopub.execute_input": "2023-04-05T21:42:21.501242Z",
     "iopub.status.busy": "2023-04-05T21:42:21.500200Z",
     "iopub.status.idle": "2023-04-05T21:42:21.514316Z",
     "shell.execute_reply": "2023-04-05T21:42:21.513052Z"
    },
    "papermill": {
     "duration": 0.021058,
     "end_time": "2023-04-05T21:42:21.517096",
     "exception": false,
     "start_time": "2023-04-05T21:42:21.496038",
     "status": "completed"
    },
    "tags": []
   },
   "outputs": [],
   "source": [
    "#Imports necessary for the project\n",
    "\n",
    "import pandas as pd\n",
    "import numpy as np\n",
    "from PIL import Image"
   ]
  },
  {
   "cell_type": "code",
   "execution_count": 2,
   "id": "60e08bde",
   "metadata": {
    "execution": {
     "iopub.execute_input": "2023-04-05T21:42:21.524258Z",
     "iopub.status.busy": "2023-04-05T21:42:21.523152Z",
     "iopub.status.idle": "2023-04-05T21:42:21.528013Z",
     "shell.execute_reply": "2023-04-05T21:42:21.527068Z"
    },
    "papermill": {
     "duration": 0.010761,
     "end_time": "2023-04-05T21:42:21.530291",
     "exception": false,
     "start_time": "2023-04-05T21:42:21.519530",
     "status": "completed"
    },
    "tags": []
   },
   "outputs": [],
   "source": [
    "PATH = \"/kaggle/input/ravir-segmentation/RAVIR Dataset/train\""
   ]
  },
  {
   "cell_type": "code",
   "execution_count": 3,
   "id": "e2e71f7b",
   "metadata": {
    "execution": {
     "iopub.execute_input": "2023-04-05T21:42:21.537193Z",
     "iopub.status.busy": "2023-04-05T21:42:21.536143Z",
     "iopub.status.idle": "2023-04-05T21:42:21.541391Z",
     "shell.execute_reply": "2023-04-05T21:42:21.540231Z"
    },
    "papermill": {
     "duration": 0.011256,
     "end_time": "2023-04-05T21:42:21.543962",
     "exception": false,
     "start_time": "2023-04-05T21:42:21.532706",
     "status": "completed"
    },
    "tags": []
   },
   "outputs": [],
   "source": [
    "# Method to read in all images in file path\n",
    "\n",
    "def readImages(filepath):\n",
    "  return 0"
   ]
  },
  {
   "cell_type": "code",
   "execution_count": null,
   "id": "1fd25a8f",
   "metadata": {
    "papermill": {
     "duration": 0.002289,
     "end_time": "2023-04-05T21:42:21.548736",
     "exception": false,
     "start_time": "2023-04-05T21:42:21.546447",
     "status": "completed"
    },
    "tags": []
   },
   "outputs": [],
   "source": []
  }
 ],
 "metadata": {
  "kernelspec": {
   "display_name": "Python 3",
   "language": "python",
   "name": "python3"
  },
  "language_info": {
   "codemirror_mode": {
    "name": "ipython",
    "version": 3
   },
   "file_extension": ".py",
   "mimetype": "text/x-python",
   "name": "python",
   "nbconvert_exporter": "python",
   "pygments_lexer": "ipython3",
   "version": "3.7.12"
  },
  "papermill": {
   "default_parameters": {},
   "duration": 11.906981,
   "end_time": "2023-04-05T21:42:22.276744",
   "environment_variables": {},
   "exception": null,
   "input_path": "__notebook__.ipynb",
   "output_path": "__notebook__.ipynb",
   "parameters": {},
   "start_time": "2023-04-05T21:42:10.369763",
   "version": "2.4.0"
  }
 },
 "nbformat": 4,
 "nbformat_minor": 5
}
